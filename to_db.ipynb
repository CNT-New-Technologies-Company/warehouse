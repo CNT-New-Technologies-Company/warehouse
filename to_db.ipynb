{
 "cells": [
  {
   "cell_type": "code",
   "execution_count": 4,
   "metadata": {},
   "outputs": [],
   "source": [
    "import os\n",
    "import pandas as pd\n",
    "import directorios as dir\n",
    "from sqlalchemy import create_engine"
   ]
  },
  {
   "cell_type": "code",
   "execution_count": 5,
   "metadata": {},
   "outputs": [],
   "source": [
    "# #Conexión Victor\n",
    "# host = \"localhost\" \n",
    "# dbname = \"BigDataCNT\" \n",
    "# user = \"postgres\" \n",
    "# password = \"BddCnt2024\" \n",
    "# port = \"5432\"\n",
    "\n",
    "# engine = create_engine(f'postgresql+psycopg2://{user}:{password}@{host}:{port}/{dbname}', connect_args={\"options\": \"-c client_encoding=UTF8\"})\n",
    "\n",
    "# excel_file = dir.log_path_and_file\n",
    "# csv_file = r\"2. Datos\\logs.csv\""
   ]
  },
  {
   "cell_type": "code",
   "execution_count": 6,
   "metadata": {},
   "outputs": [],
   "source": [
    "#Conexión María\n",
    "host = \"localhost\" \n",
    "dbname = \"bigdata\" \n",
    "user = \"postgres\" \n",
    "password = \"postgre28\" \n",
    "port = \"5432\"\n",
    "\n",
    "engine = create_engine(f'postgresql+psycopg2://{user}:{password}@{host}:{port}/{dbname}', connect_args={\"options\": \"-c client_encoding=UTF8\"})\n",
    "\n",
    "excel_file = dir.log_path_and_file\n",
    "csv_file = r\"2. Datos\\logs.csv\""
   ]
  },
  {
   "cell_type": "code",
   "execution_count": 7,
   "metadata": {},
   "outputs": [
    {
     "name": "stdout",
     "output_type": "stream",
     "text": [
      "Excel file read successfully.\n",
      "DataFrame successfully saved as CSV.\n",
      "CSV file read successfully.\n",
      "Table 'Bitacoras' successfully uploaded to database 'bigdata'.\n"
     ]
    }
   ],
   "source": [
    "if not os.path.exists(excel_file):\n",
    "    raise FileNotFoundError(f\"Excel file not found at path: {excel_file}\")\n",
    "\n",
    "try:\n",
    "    df = pd.read_excel(excel_file)\n",
    "    print(\"Excel file read successfully.\")\n",
    "except Exception as e:\n",
    "    raise Exception(f\"Error reading Excel file: {e}\")\n",
    "\n",
    "try:\n",
    "    df.to_csv(csv_file, encoding='utf-8', index=False)\n",
    "    print(\"DataFrame successfully saved as CSV.\")\n",
    "except Exception as e:\n",
    "    raise Exception(f\"Error saving DataFrame to CSV: {e}\")\n",
    "\n",
    "try:\n",
    "    df = pd.read_csv(csv_file, encoding='utf-8')\n",
    "    print(\"CSV file read successfully.\")\n",
    "except Exception as e:\n",
    "    raise Exception(f\"Error reading CSV file: {e}\")\n",
    "\n",
    "table_name = \"Bitacoras\"\n",
    "\n",
    "try:\n",
    "    df.to_sql(table_name, engine, if_exists='replace', index=False)\n",
    "    print(f\"Table '{table_name}' successfully uploaded to database '{dbname}'.\")\n",
    "except Exception as e:\n",
    "    raise Exception(f\"Error uploading DataFrame to PostgreSQL: {e}\")"
   ]
  },
  {
   "cell_type": "code",
   "execution_count": null,
   "metadata": {},
   "outputs": [],
   "source": []
  }
 ],
 "metadata": {
  "kernelspec": {
   "display_name": "base",
   "language": "python",
   "name": "python3"
  },
  "language_info": {
   "codemirror_mode": {
    "name": "ipython",
    "version": 3
   },
   "file_extension": ".py",
   "mimetype": "text/x-python",
   "name": "python",
   "nbconvert_exporter": "python",
   "pygments_lexer": "ipython3",
   "version": "3.12.7"
  }
 },
 "nbformat": 4,
 "nbformat_minor": 2
}
